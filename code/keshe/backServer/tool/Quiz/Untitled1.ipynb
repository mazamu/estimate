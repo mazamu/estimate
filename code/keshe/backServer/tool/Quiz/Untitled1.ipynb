{
 "cells": [
  {
   "cell_type": "code",
   "execution_count": 1,
   "id": "sacred-employer",
   "metadata": {},
   "outputs": [
    {
     "name": "stdout",
     "output_type": "stream",
     "text": [
      "[{'word': 'fibre', 'flag': False}, {'word': 'underestimate', 'flag': False}, {'word': 'clumsy', 'flag': False}, {'word': 'quartz', 'flag': False}, {'word': 'representative', 'flag': False}, {'word': 'fastidious', 'flag': False}, {'word': 'hammer', 'flag': False}, {'word': 'vision', 'flag': False}, {'word': 'stray', 'flag': False}, {'word': 'glance', 'flag': False}, {'word': 'perturb', 'flag': False}, {'word': 'yawn', 'flag': False}, {'word': 'system', 'flag': False}, {'word': 'dip', 'flag': False}, {'word': 'engagement', 'flag': False}, {'word': 'harness', 'flag': False}, {'word': 'pretext', 'flag': False}, {'word': 'update', 'flag': False}, {'word': 'generator', 'flag': False}, {'word': 'setback', 'flag': False}, {'word': 'clamor', 'flag': False}, {'word': 'gigantic', 'flag': False}, {'word': 'marshal', 'flag': False}, {'word': 'flabby', 'flag': False}, {'word': 'dawn', 'flag': False}, {'word': 'accompany', 'flag': False}, {'word': 'astonish', 'flag': False}, {'word': 'packet', 'flag': False}, {'word': 'model', 'flag': False}, {'word': 'rejoice', 'flag': False}, {'word': 'skull', 'flag': False}, {'word': 'vocal', 'flag': False}, {'word': 'adventure', 'flag': False}, {'word': 'civilization', 'flag': False}, {'word': 'donation', 'flag': False}, {'word': 'honourable', 'flag': False}, {'word': 'vague', 'flag': False}, {'word': 'competence', 'flag': False}, {'word': 'lodge', 'flag': False}, {'word': 'spotlight', 'flag': False}, {'word': 'politician', 'flag': False}, {'word': 'vacancy', 'flag': False}, {'word': 'sceptical', 'flag': False}, {'word': 'paste', 'flag': False}, {'word': 'fairy', 'flag': False}, {'word': 'linear', 'flag': False}, {'word': 'railroad', 'flag': False}, {'word': 'throne', 'flag': False}, {'word': 'conception', 'flag': False}, {'word': 'inapt', 'flag': False}, {'word': 'package', 'flag': False}, {'word': 'learned', 'flag': False}, {'word': 'superintendent', 'flag': False}, {'word': 'redundancy', 'flag': False}, {'word': 'efficiency', 'flag': False}, {'word': 'external', 'flag': False}, {'word': 'grumble', 'flag': False}, {'word': 'arrange', 'flag': False}, {'word': 'plantation', 'flag': False}, {'word': 'fancy', 'flag': False}, {'word': 'wealth', 'flag': False}, {'word': 'truly', 'flag': False}, {'word': 'distribution', 'flag': False}, {'word': 'escalate', 'flag': False}, {'word': 'plummet', 'flag': False}, {'word': 'subdue', 'flag': False}, {'word': 'agreement', 'flag': False}, {'word': 'element', 'flag': False}, {'word': 'conform', 'flag': False}, {'word': 'application', 'flag': False}, {'word': 'significance', 'flag': False}, {'word': 'ecosystem', 'flag': False}, {'word': 'reference', 'flag': False}, {'word': 'deplore', 'flag': False}, {'word': 'invitation', 'flag': False}, {'word': 'manifest', 'flag': False}, {'word': 'pebble', 'flag': False}, {'word': 'cut', 'flag': False}, {'word': 'underground', 'flag': False}, {'word': 'meagre', 'flag': False}, {'word': 'attempt', 'flag': False}, {'word': 'injure', 'flag': False}, {'word': 'blink', 'flag': False}, {'word': 'platypus', 'flag': False}, {'word': 'squirt', 'flag': False}, {'word': 'successor', 'flag': False}, {'word': 'meddle', 'flag': False}, {'word': 'ending', 'flag': False}, {'word': 'stare', 'flag': False}, {'word': 'madden', 'flag': False}, {'word': 'industrial', 'flag': False}, {'word': 'damp', 'flag': False}, {'word': 'subtract', 'flag': False}, {'word': 'apart', 'flag': False}, {'word': 'enact', 'flag': False}, {'word': 'definite', 'flag': False}, {'word': 'dreary', 'flag': False}, {'word': 'provisional', 'flag': False}, {'word': 'bat', 'flag': False}, {'word': 'foul', 'flag': False}]\n"
     ]
    }
   ],
   "source": [
    "from quiz import quiz\n",
    "quiz = quiz()\n",
    "w = quiz.GetWordcsv()\n",
    "w1,w2,w3 = w\n",
    "# print('w1=',len(w1))\n",
    "# print('w2=',len(w2))\n",
    "# print('w3=',len(w3))\n",
    "wordList = quiz.Problem(w1,w2,w3)\n",
    "print(wordList)"
   ]
  },
  {
   "cell_type": "code",
   "execution_count": null,
   "id": "statewide-atlanta",
   "metadata": {},
   "outputs": [],
   "source": []
  }
 ],
 "metadata": {
  "kernelspec": {
   "display_name": "Python 3",
   "language": "python",
   "name": "python3"
  },
  "language_info": {
   "codemirror_mode": {
    "name": "ipython",
    "version": 3
   },
   "file_extension": ".py",
   "mimetype": "text/x-python",
   "name": "python",
   "nbconvert_exporter": "python",
   "pygments_lexer": "ipython3",
   "version": "3.6.9"
  }
 },
 "nbformat": 4,
 "nbformat_minor": 5
}
